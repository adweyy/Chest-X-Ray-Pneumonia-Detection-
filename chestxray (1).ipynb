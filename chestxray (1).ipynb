{
  "cells": [
    {
      "cell_type": "code",
      "source": [
        "import kagglehub\n",
        "\n",
        "# Download latest version\n",
        "path = kagglehub.dataset_download(\"paultimothymooney/chest-xray-pneumonia\")\n",
        "\n",
        "print(\"Path to dataset files:\", path)"
      ],
      "metadata": {
        "colab": {
          "base_uri": "https://localhost:8080/"
        },
        "id": "CYv_WzCuDN5S",
        "outputId": "a279b92d-4b8d-4706-9cac-dc5e5bd8c5e2"
      },
      "execution_count": null,
      "outputs": [
        {
          "output_type": "stream",
          "name": "stdout",
          "text": [
            "Path to dataset files: /kaggle/input/chest-xray-pneumonia\n"
          ]
        }
      ],
      "id": "CYv_WzCuDN5S"
    },
    {
      "cell_type": "code",
      "execution_count": null,
      "id": "178a8141",
      "metadata": {
        "collapsed": true,
        "id": "178a8141",
        "outputId": "7bc0e917-5562-4760-b946-d6f17f30cf52"
      },
      "outputs": [
        {
          "name": "stdout",
          "output_type": "stream",
          "text": [
            "Requirement already satisfied: torch in c:\\users\\batha\\anaconda3\\lib\\site-packages (2.7.1)\n",
            "Requirement already satisfied: torchvision in c:\\users\\batha\\anaconda3\\lib\\site-packages (0.22.1)\n",
            "Requirement already satisfied: matplotlib in c:\\users\\batha\\anaconda3\\lib\\site-packages (3.7.2)\n",
            "Requirement already satisfied: scikit-learn in c:\\users\\batha\\anaconda3\\lib\\site-packages (1.6.0)\n",
            "Requirement already satisfied: numpy in c:\\users\\batha\\anaconda3\\lib\\site-packages (1.26.4)\n",
            "Requirement already satisfied: filelock in c:\\users\\batha\\anaconda3\\lib\\site-packages (from torch) (3.9.0)\n",
            "Requirement already satisfied: typing-extensions>=4.10.0 in c:\\users\\batha\\anaconda3\\lib\\site-packages (from torch) (4.14.1)\n",
            "Requirement already satisfied: sympy>=1.13.3 in c:\\users\\batha\\anaconda3\\lib\\site-packages (from torch) (1.14.0)\n",
            "Requirement already satisfied: networkx in c:\\users\\batha\\anaconda3\\lib\\site-packages (from torch) (3.1)\n",
            "Requirement already satisfied: jinja2 in c:\\users\\batha\\anaconda3\\lib\\site-packages (from torch) (3.1.2)\n",
            "Requirement already satisfied: fsspec in c:\\users\\batha\\anaconda3\\lib\\site-packages (from torch) (2023.4.0)\n",
            "Requirement already satisfied: pillow!=8.3.*,>=5.3.0 in c:\\users\\batha\\anaconda3\\lib\\site-packages (from torchvision) (9.4.0)\n",
            "Requirement already satisfied: contourpy>=1.0.1 in c:\\users\\batha\\anaconda3\\lib\\site-packages (from matplotlib) (1.0.5)\n",
            "Requirement already satisfied: cycler>=0.10 in c:\\users\\batha\\anaconda3\\lib\\site-packages (from matplotlib) (0.11.0)\n",
            "Requirement already satisfied: fonttools>=4.22.0 in c:\\users\\batha\\anaconda3\\lib\\site-packages (from matplotlib) (4.25.0)\n",
            "Requirement already satisfied: kiwisolver>=1.0.1 in c:\\users\\batha\\anaconda3\\lib\\site-packages (from matplotlib) (1.4.4)\n",
            "Requirement already satisfied: packaging>=20.0 in c:\\users\\batha\\anaconda3\\lib\\site-packages (from matplotlib) (23.1)\n",
            "Requirement already satisfied: pyparsing<3.1,>=2.3.1 in c:\\users\\batha\\anaconda3\\lib\\site-packages (from matplotlib) (3.0.9)\n",
            "Requirement already satisfied: python-dateutil>=2.7 in c:\\users\\batha\\anaconda3\\lib\\site-packages (from matplotlib) (2.8.2)\n",
            "Requirement already satisfied: scipy>=1.6.0 in c:\\users\\batha\\anaconda3\\lib\\site-packages (from scikit-learn) (1.11.1)\n",
            "Requirement already satisfied: joblib>=1.2.0 in c:\\users\\batha\\anaconda3\\lib\\site-packages (from scikit-learn) (1.2.0)\n",
            "Requirement already satisfied: threadpoolctl>=3.1.0 in c:\\users\\batha\\anaconda3\\lib\\site-packages (from scikit-learn) (3.5.0)\n",
            "Requirement already satisfied: six>=1.5 in c:\\users\\batha\\anaconda3\\lib\\site-packages (from python-dateutil>=2.7->matplotlib) (1.16.0)\n",
            "Requirement already satisfied: mpmath<1.4,>=1.1.0 in c:\\users\\batha\\anaconda3\\lib\\site-packages (from sympy>=1.13.3->torch) (1.3.0)\n",
            "Requirement already satisfied: MarkupSafe>=2.0 in c:\\users\\batha\\anaconda3\\lib\\site-packages (from jinja2->torch) (2.1.1)\n",
            "Note: you may need to restart the kernel to use updated packages.\n"
          ]
        }
      ],
      "source": [
        "pip install torch torchvision matplotlib scikit-learn numpy"
      ]
    },
    {
      "cell_type": "code",
      "execution_count": null,
      "id": "b97d7919",
      "metadata": {
        "collapsed": true,
        "id": "b97d7919",
        "outputId": "e0f42947-9dc1-4804-93de-6a1c89a2d9e7"
      },
      "outputs": [
        {
          "name": "stdout",
          "output_type": "stream",
          "text": [
            "Requirement already satisfied: torchvision in c:\\users\\batha\\anaconda3\\lib\\site-packages (0.22.1)Note: you may need to restart the kernel to use updated packages.\n",
            "\n",
            "Requirement already satisfied: numpy in c:\\users\\batha\\anaconda3\\lib\\site-packages (from torchvision) (1.26.4)\n",
            "Requirement already satisfied: torch==2.7.1 in c:\\users\\batha\\anaconda3\\lib\\site-packages (from torchvision) (2.7.1)\n",
            "Requirement already satisfied: pillow!=8.3.*,>=5.3.0 in c:\\users\\batha\\anaconda3\\lib\\site-packages (from torchvision) (9.4.0)\n",
            "Requirement already satisfied: filelock in c:\\users\\batha\\anaconda3\\lib\\site-packages (from torch==2.7.1->torchvision) (3.9.0)\n",
            "Requirement already satisfied: typing-extensions>=4.10.0 in c:\\users\\batha\\anaconda3\\lib\\site-packages (from torch==2.7.1->torchvision) (4.14.1)\n",
            "Requirement already satisfied: sympy>=1.13.3 in c:\\users\\batha\\anaconda3\\lib\\site-packages (from torch==2.7.1->torchvision) (1.14.0)\n",
            "Requirement already satisfied: networkx in c:\\users\\batha\\anaconda3\\lib\\site-packages (from torch==2.7.1->torchvision) (3.1)\n",
            "Requirement already satisfied: jinja2 in c:\\users\\batha\\anaconda3\\lib\\site-packages (from torch==2.7.1->torchvision) (3.1.2)\n",
            "Requirement already satisfied: fsspec in c:\\users\\batha\\anaconda3\\lib\\site-packages (from torch==2.7.1->torchvision) (2023.4.0)\n",
            "Requirement already satisfied: mpmath<1.4,>=1.1.0 in c:\\users\\batha\\anaconda3\\lib\\site-packages (from sympy>=1.13.3->torch==2.7.1->torchvision) (1.3.0)\n",
            "Requirement already satisfied: MarkupSafe>=2.0 in c:\\users\\batha\\anaconda3\\lib\\site-packages (from jinja2->torch==2.7.1->torchvision) (2.1.1)\n"
          ]
        }
      ],
      "source": [
        "pip install torchvision"
      ]
    },
    {
      "cell_type": "code",
      "execution_count": null,
      "id": "e7e99d84",
      "metadata": {
        "id": "e7e99d84"
      },
      "outputs": [],
      "source": [
        "import os\n",
        "import torch\n",
        "import torch.nn as nn\n",
        "import torch.optim as optim\n",
        "import torchvision\n",
        "import torchvision.transforms as transforms\n",
        "from torch.utils.data import DataLoader\n",
        "from torchvision.datasets import ImageFolder\n",
        "import matplotlib.pyplot as plt\n",
        "from sklearn.metrics import accuracy_score, f1_score, roc_auc_score, confusion_matrix\n",
        "import numpy as np"
      ]
    },
    {
      "cell_type": "code",
      "execution_count": null,
      "id": "65b9d538",
      "metadata": {
        "colab": {
          "base_uri": "https://localhost:8080/"
        },
        "id": "65b9d538",
        "outputId": "42bfb5f9-a301-4277-a8a1-0d052e366948"
      },
      "outputs": [
        {
          "output_type": "stream",
          "name": "stdout",
          "text": [
            "Using device: cuda\n"
          ]
        }
      ],
      "source": [
        "\n",
        "torch.manual_seed(42)\n",
        "device = torch.device(\"cuda\" if torch.cuda.is_available() else \"cpu\")\n",
        "print(f\"Using device: {device}\")"
      ]
    },
    {
      "cell_type": "code",
      "execution_count": null,
      "id": "9c8a624c",
      "metadata": {
        "id": "9c8a624c"
      },
      "outputs": [],
      "source": [
        "data_dir = \"/kaggle/input/chest-xray-pneumonia\"\n",
        "train_dir = os.path.join(data_dir, \"train\")\n",
        "val_dir = os.path.join(data_dir, \"val\")\n",
        "test_dir = os.path.join(data_dir, \"test\")"
      ]
    },
    {
      "cell_type": "code",
      "execution_count": null,
      "id": "4ffd2056",
      "metadata": {
        "id": "4ffd2056"
      },
      "outputs": [],
      "source": [
        "train_transforms = transforms.Compose([\n",
        "    transforms.Resize((224, 224)),\n",
        "    transforms.RandomHorizontalFlip(),\n",
        "    transforms.RandomRotation(10),\n",
        "    transforms.ToTensor(),\n",
        "    transforms.Normalize(mean=[0.485, 0.485, 0.485], std=[0.229, 0.229, 0.229])  # Grayscale normalization\n",
        "])"
      ]
    },
    {
      "cell_type": "code",
      "execution_count": null,
      "id": "c5e3bca7",
      "metadata": {
        "id": "c5e3bca7"
      },
      "outputs": [],
      "source": [
        "val_test_transforms = transforms.Compose([\n",
        "    transforms.Resize((224, 224)),\n",
        "    transforms.ToTensor(),\n",
        "    transforms.Normalize(mean=[0.485, 0.485, 0.485], std=[0.229, 0.229, 0.229])\n",
        "])\n"
      ]
    },
    {
      "cell_type": "code",
      "source": [
        "data_dir = \"/kaggle/input/chest-xray-pneumonia\"  # Update this path\n",
        "train_dir = os.path.join(data_dir, \"chest_xray\", \"train\")\n",
        "val_dir = os.path.join(data_dir, \"chest_xray\", \"val\")\n",
        "test_dir = os.path.join(data_dir, \"chest_xray\", \"test\")\n",
        "\n",
        "# Define transforms for data augmentation and normalization\n",
        "train_transforms = transforms.Compose([\n",
        "    transforms.Resize((224, 224)),\n",
        "    transforms.RandomHorizontalFlip(),\n",
        "    transforms.RandomRotation(10),\n",
        "    transforms.ToTensor(),\n",
        "    transforms.Normalize(mean=[0.485, 0.485, 0.485], std=[0.229, 0.229, 0.229])  # Grayscale normalization\n",
        "])\n",
        "\n",
        "val_test_transforms = transforms.Compose([\n",
        "    transforms.Resize((224, 224)),\n",
        "    transforms.ToTensor(),\n",
        "    transforms.Normalize(mean=[0.485, 0.485, 0.485], std=[0.229, 0.229, 0.229])\n",
        "])\n",
        "\n",
        "# Load datasets\n",
        "train_dataset = ImageFolder(train_dir, transform=train_transforms)\n",
        "val_dataset = ImageFolder(val_dir, transform=val_test_transforms)\n",
        "test_dataset = ImageFolder(test_dir, transform=val_test_transforms)"
      ],
      "metadata": {
        "id": "34iP2oJKFkxH"
      },
      "id": "34iP2oJKFkxH",
      "execution_count": null,
      "outputs": []
    },
    {
      "cell_type": "code",
      "execution_count": null,
      "id": "edde99a8",
      "metadata": {
        "id": "edde99a8"
      },
      "outputs": [],
      "source": [
        "\n",
        "train_loader = DataLoader(train_dataset, batch_size=32, shuffle=True, num_workers=2)\n",
        "val_loader = DataLoader(val_dataset, batch_size=32, shuffle=False, num_workers=2)\n",
        "test_loader = DataLoader(test_dataset, batch_size=32, shuffle=False, num_workers=2)"
      ]
    },
    {
      "cell_type": "code",
      "execution_count": null,
      "id": "0dad54d1",
      "metadata": {
        "colab": {
          "base_uri": "https://localhost:8080/"
        },
        "id": "0dad54d1",
        "outputId": "4a14f66d-dea6-4768-c8d1-6a5d584c5e84"
      },
      "outputs": [
        {
          "output_type": "stream",
          "name": "stdout",
          "text": [
            "Train samples: 5216, Val samples: 16, Test samples: 624\n",
            "Classes: ['NORMAL', 'PNEUMONIA']\n"
          ]
        }
      ],
      "source": [
        "\n",
        "print(f\"Train samples: {len(train_dataset)}, Val samples: {len(val_dataset)}, Test samples: {len(test_dataset)}\")\n",
        "print(f\"Classes: {train_dataset.classes}\")"
      ]
    },
    {
      "cell_type": "code",
      "execution_count": null,
      "id": "41ff7438",
      "metadata": {
        "colab": {
          "base_uri": "https://localhost:8080/"
        },
        "id": "41ff7438",
        "outputId": "3389406b-b49c-44f7-8963-15d0469d5593"
      },
      "outputs": [
        {
          "output_type": "stream",
          "name": "stderr",
          "text": [
            "/usr/local/lib/python3.11/dist-packages/torchvision/models/_utils.py:208: UserWarning: The parameter 'pretrained' is deprecated since 0.13 and may be removed in the future, please use 'weights' instead.\n",
            "  warnings.warn(\n",
            "/usr/local/lib/python3.11/dist-packages/torchvision/models/_utils.py:223: UserWarning: Arguments other than a weight enum or `None` for 'weights' are deprecated since 0.13 and may be removed in the future. The current behavior is equivalent to passing `weights=ResNet18_Weights.IMAGENET1K_V1`. You can also use `weights=ResNet18_Weights.DEFAULT` to get the most up-to-date weights.\n",
            "  warnings.warn(msg)\n",
            "Downloading: \"https://download.pytorch.org/models/resnet18-f37072fd.pth\" to /root/.cache/torch/hub/checkpoints/resnet18-f37072fd.pth\n",
            "100%|██████████| 44.7M/44.7M [00:00<00:00, 181MB/s]\n"
          ]
        }
      ],
      "source": [
        "model = torchvision.models.resnet18(pretrained=True)\n",
        "model.conv1 = nn.Conv2d(3, 64, kernel_size=7, stride=2, padding=3, bias=False)\n",
        "num_ftrs = model.fc.in_features\n",
        "model.fc = nn.Linear(num_ftrs, 2)\n",
        "model = model.to(device)"
      ]
    },
    {
      "cell_type": "code",
      "execution_count": null,
      "id": "6297e6ed",
      "metadata": {
        "id": "6297e6ed"
      },
      "outputs": [],
      "source": [
        "class_counts = np.bincount([train_dataset.targets[i] for i in range(len(train_dataset))])\n",
        "class_weights = torch.tensor([1.0 / class_counts[0], 1.0 / class_counts[1]], dtype=torch.float).to(device)\n",
        "criterion = nn.CrossEntropyLoss(weight=class_weights)\n",
        "\n"
      ]
    },
    {
      "cell_type": "code",
      "execution_count": null,
      "id": "f3a81925",
      "metadata": {
        "id": "f3a81925"
      },
      "outputs": [],
      "source": [
        "\n",
        "def train_model(model, train_loader, val_loader, optimizer, scheduler=None, num_epochs=10):\n",
        "    train_losses, val_losses = [], []\n",
        "    for epoch in range(num_epochs):\n",
        "\n",
        "        model.train()\n",
        "        train_loss = 0.0\n",
        "        for images, labels in train_loader:\n",
        "            images, labels = images.to(device), labels.to(device)\n",
        "            optimizer.zero_grad()\n",
        "            outputs = model(images)\n",
        "            loss = criterion(outputs, labels)\n",
        "            loss.backward()\n",
        "            optimizer.step()\n",
        "            train_loss += loss.item() * images.size(0)\n",
        "        train_loss = train_loss / len(train_loader.dataset)\n",
        "        train_losses.append(train_loss)\n",
        "        model.eval()\n",
        "        val_loss = 0.0\n",
        "        with torch.no_grad():\n",
        "            for images, labels in val_loader:\n",
        "                images, labels = images.to(device), labels.to(device)\n",
        "                outputs = model(images)\n",
        "                loss = criterion(outputs, labels)\n",
        "                val_loss += loss.item() * images.size(0)\n",
        "        val_loss = val_loss / len(val_loader.dataset)\n",
        "        val_losses.append(val_loss)\n",
        "\n",
        "        if scheduler:\n",
        "            scheduler.step()\n",
        "\n",
        "        print(f\"Epoch {epoch+1}/{num_epochs}, Train Loss: {train_loss:.4f}, Val Loss: {val_loss:.4f}\")\n",
        "\n",
        "    return train_losses, val_losses"
      ]
    },
    {
      "cell_type": "code",
      "execution_count": null,
      "id": "c7048626",
      "metadata": {
        "id": "c7048626"
      },
      "outputs": [],
      "source": [
        "\n",
        "def evaluate_model(model, test_loader):\n",
        "    model.eval()\n",
        "    all_preds, all_labels, all_probs = [], [], []\n",
        "    with torch.no_grad():\n",
        "        for images, labels in test_loader:\n",
        "            images, labels = images.to(device), labels.to(device)\n",
        "            outputs = model(images)\n",
        "            probs = torch.softmax(outputs, dim=1)[:, 1]\n",
        "            _, preds = torch.max(outputs, 1)\n",
        "            all_preds.extend(preds.cpu().numpy())\n",
        "            all_labels.extend(labels.cpu().numpy())\n",
        "            all_probs.extend(probs.cpu().numpy())\n",
        "\n",
        "    accuracy = accuracy_score(all_labels, all_preds)\n",
        "    f1 = f1_score(all_labels, all_preds)\n",
        "    auc = roc_auc_score(all_labels, all_probs)\n",
        "    cm = confusion_matrix(all_labels, all_preds)\n",
        "\n",
        "    return accuracy, f1, auc, cm"
      ]
    },
    {
      "cell_type": "code",
      "execution_count": null,
      "id": "c336b0ec",
      "metadata": {
        "id": "c336b0ec"
      },
      "outputs": [],
      "source": [
        "def plot_loss_curves(train_losses, val_losses, title):\n",
        "    plt.figure(figsize=(10, 5))\n",
        "    plt.plot(train_losses, label=\"Train Loss\")\n",
        "    plt.plot(val_losses, label=\"Val Loss\")\n",
        "    plt.xlabel(\"Epoch\")\n",
        "    plt.ylabel(\"Loss\")\n",
        "    plt.title(title)\n",
        "    plt.legend()\n",
        "    plt.savefig(f\"{title.lower().replace(' ', '_')}.png\")\n",
        "    plt.show()"
      ]
    },
    {
      "cell_type": "code",
      "execution_count": null,
      "id": "a7853a16",
      "metadata": {
        "colab": {
          "base_uri": "https://localhost:8080/"
        },
        "id": "a7853a16",
        "outputId": "731d1ae0-554f-4064-c3ba-1e5c31da646c"
      },
      "outputs": [
        {
          "output_type": "stream",
          "name": "stdout",
          "text": [
            "Training with Adam...\n"
          ]
        },
        {
          "output_type": "stream",
          "name": "stderr",
          "text": [
            "/usr/local/lib/python3.11/dist-packages/torchvision/models/_utils.py:208: UserWarning: The parameter 'pretrained' is deprecated since 0.13 and may be removed in the future, please use 'weights' instead.\n",
            "  warnings.warn(\n",
            "/usr/local/lib/python3.11/dist-packages/torchvision/models/_utils.py:223: UserWarning: Arguments other than a weight enum or `None` for 'weights' are deprecated since 0.13 and may be removed in the future. The current behavior is equivalent to passing `weights=ResNet18_Weights.IMAGENET1K_V1`. You can also use `weights=ResNet18_Weights.DEFAULT` to get the most up-to-date weights.\n",
            "  warnings.warn(msg)\n"
          ]
        }
      ],
      "source": [
        "print(\"Training with Adam...\")\n",
        "model_adam = torchvision.models.resnet18(pretrained=True)\n",
        "model_adam.conv1 = nn.Conv2d(3, 64, kernel_size=7, stride=2, padding=3, bias=False)\n",
        "model_adam.fc = nn.Linear(num_ftrs, 2)\n",
        "model_adam = model_adam.to(device)\n",
        "optimizer_adam = optim.Adam(model_adam.parameters(), lr=0.001, weight_decay=1e-4)\n"
      ]
    },
    {
      "cell_type": "code",
      "source": [
        "\n",
        "train_losses_adam, val_losses_adam = train_model(model_adam, train_loader, val_loader, optimizer_adam, num_epochs=10)"
      ],
      "metadata": {
        "colab": {
          "base_uri": "https://localhost:8080/"
        },
        "id": "7R8I8TyIGDEE",
        "outputId": "53b32b38-c7d6-4b24-83ca-248f1ff87b24"
      },
      "id": "7R8I8TyIGDEE",
      "execution_count": null,
      "outputs": [
        {
          "output_type": "stream",
          "name": "stdout",
          "text": [
            "Epoch 1/10, Train Loss: 0.1944, Val Loss: 0.6099\n",
            "Epoch 2/10, Train Loss: 0.1090, Val Loss: 0.8862\n",
            "Epoch 3/10, Train Loss: 0.1025, Val Loss: 0.6213\n",
            "Epoch 4/10, Train Loss: 0.1037, Val Loss: 0.1401\n",
            "Epoch 5/10, Train Loss: 0.0966, Val Loss: 1.3601\n",
            "Epoch 6/10, Train Loss: 0.0760, Val Loss: 0.3593\n",
            "Epoch 7/10, Train Loss: 0.0773, Val Loss: 0.2564\n",
            "Epoch 8/10, Train Loss: 0.0847, Val Loss: 0.5166\n",
            "Epoch 9/10, Train Loss: 0.0718, Val Loss: 0.4604\n",
            "Epoch 10/10, Train Loss: 0.0733, Val Loss: 0.4548\n"
          ]
        }
      ]
    },
    {
      "cell_type": "code",
      "source": [
        "plot_loss_curves(train_losses_adam, val_losses_adam, \"Adam Loss Curves\")\n",
        "accuracy_adam, f1_adam, auc_adam, cm_adam = evaluate_model(model_adam, test_loader)"
      ],
      "metadata": {
        "colab": {
          "base_uri": "https://localhost:8080/",
          "height": 487
        },
        "id": "_BvCUtScGc11",
        "outputId": "a2547c40-8968-4359-c50a-8f2b382c840d"
      },
      "id": "_BvCUtScGc11",
      "execution_count": null,
      "outputs": [
        {
          "output_type": "display_data",
          "data": {
            "text/plain": [
              "<Figure size 1000x500 with 1 Axes>"
            ],
            "image/png": "[encoded data removed]"
          },
          "metadata": {}
        }
      ]
    },
    {
      "cell_type": "code",
      "source": [
        "print(f\"Adam - Accuracy: {accuracy_adam:.4f}, F1-Score: {f1_adam:.4f}, AUC-ROC: {auc_adam:.4f}\")\n",
        "print(f\"Adam - Confusion Matrix:\\n{cm_adam}\")"
      ],
      "metadata": {
        "colab": {
          "base_uri": "https://localhost:8080/"
        },
        "id": "H8xGkJmvGQNw",
        "outputId": "249a40a0-8df7-4b1e-fae9-7e5966739c3f"
      },
      "id": "H8xGkJmvGQNw",
      "execution_count": null,
      "outputs": [
        {
          "output_type": "stream",
          "name": "stdout",
          "text": [
            "Adam - Accuracy: 0.8317, F1-Score: 0.8797, AUC-ROC: 0.9470\n",
            "Adam - Confusion Matrix:\n",
            "[[135  99]\n",
            " [  6 384]]\n"
          ]
        }
      ]
    },
    {
      "cell_type": "code",
      "execution_count": null,
      "id": "2a7bc73f",
      "metadata": {
        "colab": {
          "base_uri": "https://localhost:8080/"
        },
        "id": "2a7bc73f",
        "outputId": "4a3e1a67-4898-4c22-a116-2dc597273fe9"
      },
      "outputs": [
        {
          "output_type": "stream",
          "name": "stdout",
          "text": [
            "\n",
            "Training with SGD...\n"
          ]
        },
        {
          "output_type": "stream",
          "name": "stderr",
          "text": [
            "/usr/local/lib/python3.11/dist-packages/torchvision/models/_utils.py:208: UserWarning: The parameter 'pretrained' is deprecated since 0.13 and may be removed in the future, please use 'weights' instead.\n",
            "  warnings.warn(\n",
            "/usr/local/lib/python3.11/dist-packages/torchvision/models/_utils.py:223: UserWarning: Arguments other than a weight enum or `None` for 'weights' are deprecated since 0.13 and may be removed in the future. The current behavior is equivalent to passing `weights=ResNet18_Weights.IMAGENET1K_V1`. You can also use `weights=ResNet18_Weights.DEFAULT` to get the most up-to-date weights.\n",
            "  warnings.warn(msg)\n"
          ]
        }
      ],
      "source": [
        "print(\"\\nTraining with SGD...\")\n",
        "model_sgd = torchvision.models.resnet18(pretrained=True)\n",
        "model_sgd.conv1 = nn.Conv2d(3, 64, kernel_size=7, stride=2, padding=3, bias=False)\n",
        "model_sgd.fc = nn.Linear(num_ftrs, 2)\n",
        "model_sgd = model_sgd.to(device)\n",
        "\n"
      ]
    },
    {
      "cell_type": "code",
      "source": [
        "optimizer_sgd = optim.SGD(model_sgd.parameters(), lr=0.01, momentum=0.9, weight_decay=1e-4)\n",
        "scheduler_sgd = optim.lr_scheduler.CosineAnnealingLR(optimizer_sgd, T_max=10)\n",
        "train_losses_sgd, val_losses_sgd = train_model(model_sgd, train_loader, val_loader, optimizer_sgd, scheduler_sgd, num_epochs=10)\n"
      ],
      "metadata": {
        "colab": {
          "base_uri": "https://localhost:8080/"
        },
        "id": "bhHiHoGGGL7u",
        "outputId": "8dc34922-33be-4022-95ab-a84c10190afb"
      },
      "id": "bhHiHoGGGL7u",
      "execution_count": null,
      "outputs": [
        {
          "output_type": "stream",
          "name": "stdout",
          "text": [
            "Epoch 1/10, Train Loss: 0.2441, Val Loss: 1.7585\n",
            "Epoch 2/10, Train Loss: 0.0952, Val Loss: 1.0823\n",
            "Epoch 3/10, Train Loss: 0.0985, Val Loss: 0.1934\n",
            "Epoch 4/10, Train Loss: 0.0640, Val Loss: 0.1520\n",
            "Epoch 5/10, Train Loss: 0.0546, Val Loss: 0.1243\n",
            "Epoch 6/10, Train Loss: 0.0436, Val Loss: 0.0949\n",
            "Epoch 7/10, Train Loss: 0.0307, Val Loss: 0.1247\n",
            "Epoch 8/10, Train Loss: 0.0330, Val Loss: 0.1478\n",
            "Epoch 9/10, Train Loss: 0.0291, Val Loss: 0.1800\n",
            "Epoch 10/10, Train Loss: 0.0211, Val Loss: 0.1630\n"
          ]
        }
      ]
    },
    {
      "cell_type": "code",
      "source": [
        "plot_loss_curves(train_losses_sgd, val_losses_sgd, \"SGD Loss Curves\")\n",
        "accuracy_sgd, f1_sgd, auc_sgd, cm_sgd = evaluate_model(model_sgd, test_loader)\n",
        "print(f\"SGD - Accuracy: {accuracy_sgd:.4f}, F1-Score: {f1_sgd:.4f}, AUC-ROC: {auc_sgd:.4f}\")\n",
        "print(f\"SGD - Confusion Matrix:\\n{cm_sgd}\")"
      ],
      "metadata": {
        "colab": {
          "base_uri": "https://localhost:8080/",
          "height": 556
        },
        "id": "8NtuWZhXGNFi",
        "outputId": "c413cbd5-9aea-4f5d-eb93-c778453b09d2"
      },
      "id": "8NtuWZhXGNFi",
      "execution_count": null,
      "outputs": [
        {
          "output_type": "display_data",
          "data": {
            "text/plain": [
              "<Figure size 1000x500 with 1 Axes>"
            ],
            "image/png": "[encoded data removed]"
          },
          "metadata": {}
        },
        {
          "output_type": "stream",
          "name": "stdout",
          "text": [
            "SGD - Accuracy: 0.8381, F1-Score: 0.8846, AUC-ROC: 0.9591\n",
            "SGD - Confusion Matrix:\n",
            "[[136  98]\n",
            " [  3 387]]\n"
          ]
        }
      ]
    },
    {
      "cell_type": "code",
      "execution_count": null,
      "id": "fa830f65",
      "metadata": {
        "colab": {
          "base_uri": "https://localhost:8080/"
        },
        "id": "fa830f65",
        "outputId": "80612a0d-da10-4de7-e939-7c7610c3d9d8"
      },
      "outputs": [
        {
          "output_type": "stream",
          "name": "stdout",
          "text": [
            "\n",
            "Summary:\n",
            "Adam: Accuracy=0.8317, F1=0.8797, AUC=0.9470\n",
            "SGD: Accuracy=0.8381, F1=0.8846, AUC=0.9591\n"
          ]
        }
      ],
      "source": [
        "print(\"\\nSummary:\")\n",
        "print(f\"Adam: Accuracy={accuracy_adam:.4f}, F1={f1_adam:.4f}, AUC={auc_adam:.4f}\")\n",
        "print(f\"SGD: Accuracy={accuracy_sgd:.4f}, F1={f1_sgd:.4f}, AUC={auc_sgd:.4f}\")"
      ]
    }
  ],
  "metadata": {
    "kernelspec": {
      "display_name": "Python 3",
      "name": "python3"
    },
    "language_info": {
      "codemirror_mode": {
        "name": "ipython",
        "version": 3
      },
      "file_extension": ".py",
      "mimetype": "text/x-python",
      "name": "python",
      "nbconvert_exporter": "python",
      "pygments_lexer": "ipython3",
      "version": "3.11.5"
    },
    "colab": {
      "provenance": [],
      "gpuType": "T4"
    },
    "accelerator": "GPU"
  },
  "nbformat": 4,
  "nbformat_minor": 5
}